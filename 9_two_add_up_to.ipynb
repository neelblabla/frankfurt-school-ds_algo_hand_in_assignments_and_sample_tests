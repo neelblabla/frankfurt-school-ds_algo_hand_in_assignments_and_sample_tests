{
 "cells": [
  {
   "cell_type": "markdown",
   "metadata": {},
   "source": [
    "# Find two numbers in a sequence to add up to a given number\n",
    "Given a sequence of numbers find any two numbers that add up to another given number.\n",
    "For example, given the sequence [3, 4, 1, 7 , 9, 17] and the number 8, the solution is [1, 7],\n",
    "because these two add up to 8."
   ]
  },
  {
   "cell_type": "code",
   "execution_count": 25,
   "metadata": {},
   "outputs": [],
   "source": [
    "a = [3, 4, 1, 7 , 9, 17, 5, 7, -1]\n",
    "b = 8"
   ]
  },
  {
   "cell_type": "code",
   "execution_count": 26,
   "metadata": {},
   "outputs": [
    {
     "name": "stdout",
     "output_type": "stream",
     "text": [
      "[3, 5]\n",
      "[1, 7]\n",
      "[1, 7]\n",
      "[9, -1]\n"
     ]
    }
   ],
   "source": [
    "i = 0\n",
    "while (i < len (a) - 1):\n",
    "    j = i + 1\n",
    "    l = [0]*2\n",
    "    while (j < len (a)):\n",
    "        if (a[i] + a[j] == b):\n",
    "            l[0] = a[i]\n",
    "            l[1] = a[j]\n",
    "            print(l)\n",
    "        j = j + 1\n",
    "    i = i + 1"
   ]
  }
 ],
 "metadata": {
  "kernelspec": {
   "display_name": "Python 3.9.12 ('base')",
   "language": "python",
   "name": "python3"
  },
  "language_info": {
   "codemirror_mode": {
    "name": "ipython",
    "version": 3
   },
   "file_extension": ".py",
   "mimetype": "text/x-python",
   "name": "python",
   "nbconvert_exporter": "python",
   "pygments_lexer": "ipython3",
   "version": "3.9.12"
  },
  "orig_nbformat": 4,
  "vscode": {
   "interpreter": {
    "hash": "40d3a090f54c6569ab1632332b64b2c03c39dcf918b08424e98f38b5ae0af88f"
   }
  }
 },
 "nbformat": 4,
 "nbformat_minor": 2
}
