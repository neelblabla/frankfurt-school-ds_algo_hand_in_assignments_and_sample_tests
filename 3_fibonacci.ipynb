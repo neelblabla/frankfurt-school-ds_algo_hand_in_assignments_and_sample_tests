{
 "cells": [
  {
   "cell_type": "markdown",
   "metadata": {},
   "source": [
    "# Print out all Fibonacci numbers smaller or equal to a given number\n",
    "Given a positive number, print out all Fibonacci numbers smaller or equal to that number. For example, given the number 11 the program should print out: 1 1 2 3 5 8. The next Fibonacci number would be 13 which is already larger than 11."
   ]
  },
  {
   "cell_type": "code",
   "execution_count": 7,
   "metadata": {},
   "outputs": [
    {
     "name": "stdout",
     "output_type": "stream",
     "text": [
      "<class 'int'>\n",
      "the selected number is: 78\n"
     ]
    }
   ],
   "source": [
    "number = int(input(f\"enter a number\"))\n",
    "print(type(number))\n",
    "print(f\"the selected number is: {number}\")"
   ]
  },
  {
   "cell_type": "code",
   "execution_count": 8,
   "metadata": {},
   "outputs": [
    {
     "name": "stdout",
     "output_type": "stream",
     "text": [
      "0 1 1 2 2 3 5 8 13 21 34 55 "
     ]
    }
   ],
   "source": [
    "h = 0\n",
    "l = 1\n",
    "r = 1\n",
    "print(h, end = ' ')\n",
    "print(l, end = ' ')\n",
    "print(r, end = ' ')\n",
    "s = l + r\n",
    "while(s < number):\n",
    "    print(s, end = ' ')\n",
    "    s = l + r\n",
    "    l = r\n",
    "    r = s\n",
    "\n"
   ]
  }
 ],
 "metadata": {
  "kernelspec": {
   "display_name": "Python 3.9.12 ('base')",
   "language": "python",
   "name": "python3"
  },
  "language_info": {
   "codemirror_mode": {
    "name": "ipython",
    "version": 3
   },
   "file_extension": ".py",
   "mimetype": "text/x-python",
   "name": "python",
   "nbconvert_exporter": "python",
   "pygments_lexer": "ipython3",
   "version": "3.9.12"
  },
  "orig_nbformat": 4,
  "vscode": {
   "interpreter": {
    "hash": "40d3a090f54c6569ab1632332b64b2c03c39dcf918b08424e98f38b5ae0af88f"
   }
  }
 },
 "nbformat": 4,
 "nbformat_minor": 2
}
