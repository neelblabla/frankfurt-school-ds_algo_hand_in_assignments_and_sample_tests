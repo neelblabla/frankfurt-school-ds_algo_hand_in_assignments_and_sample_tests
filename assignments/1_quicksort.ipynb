{
 "cells": [
  {
   "cell_type": "markdown",
   "metadata": {},
   "source": [
    "# QUICKSORT\n",
    "\n",
    "Dear students,\n",
    "The last sorting algorithm, we are focusing on is - Quicksort. As an individual assignment, please implement Quicksort as function and measure the execution time for different lengths of input lists. What is the time complexity you are observing for the worst, average and best case?\n",
    "Happy programming!"
   ]
  },
  {
   "cell_type": "code",
   "execution_count": 1,
   "metadata": {},
   "outputs": [],
   "source": [
    "from random import random\n",
    "import time\n",
    "import random\n",
    "import matplotlib.pyplot as plt"
   ]
  },
  {
   "cell_type": "code",
   "execution_count": 2,
   "metadata": {},
   "outputs": [],
   "source": [
    "a = [22, 10765, 147, 156, 2465, 23, 31, 98, 11, 9, 7, 34, 25, 990, 10, 64]"
   ]
  },
  {
   "cell_type": "markdown",
   "metadata": {},
   "source": [
    "### Defined below is a function to perform QUICKSORT"
   ]
  },
  {
   "cell_type": "code",
   "execution_count": 3,
   "metadata": {},
   "outputs": [],
   "source": [
    "def quicksort(list, start, end):\n",
    "    \n",
    "    def  split (list, start, end):\n",
    "        key = list[end]\n",
    "        split_index = start\n",
    "        for index in range(start, end):\n",
    "            if list[index] <= key:\n",
    "                temp = list[index]\n",
    "                list[index] = list[split_index]\n",
    "                list[split_index] = temp\n",
    "                split_index = split_index + 1\n",
    "        list[end] = list[split_index]\n",
    "        list[split_index] = key\n",
    "        return split_index\n",
    "    \n",
    "    if start < end:\n",
    "        s_index = split (list, start, end)\n",
    "        quicksort(list , start, s_index - 1)\n",
    "        quicksort(list, s_index + 1, end)\n",
    "    return list"
   ]
  },
  {
   "cell_type": "code",
   "execution_count": 4,
   "metadata": {},
   "outputs": [
    {
     "name": "stdout",
     "output_type": "stream",
     "text": [
      "[7, 9, 10, 11, 22, 23, 25, 31, 34, 64, 98, 147, 156, 990, 2465, 10765]\n"
     ]
    }
   ],
   "source": [
    "sorted_list = quicksort(a, 0, len(a) - 1)\n",
    "print(sorted_list)"
   ]
  },
  {
   "cell_type": "markdown",
   "metadata": {},
   "source": [
    "### Following this point below is the code to measure execution time for different lengths of lists in worst, average and good case scenarios. Time complexities are explained towards the end."
   ]
  },
  {
   "cell_type": "code",
   "execution_count": 5,
   "metadata": {},
   "outputs": [],
   "source": [
    "lengths_to_run = [100, 200, 500, 1000, 1500]\n",
    "sorted_lists_results = []\n",
    "inversely_sorted_lists_results = []\n",
    "random_list_results = []"
   ]
  },
  {
   "cell_type": "code",
   "execution_count": 6,
   "metadata": {},
   "outputs": [
    {
     "name": "stdout",
     "output_type": "stream",
     "text": [
      "[0.0030028820037841797, 0.00500798225402832, 0.051013946533203125, 0.15381097793579102, 0.28467702865600586]\n",
      "[0.00015115737915039062, 0.00032711029052734375, 0.001096963882446289, 0.0023539066314697266, 0.004066944122314453]\n",
      "[0.0007579326629638672, 0.0028781890869140625, 0.02022099494934082, 0.08680295944213867, 0.19437503814697266]\n"
     ]
    },
    {
     "data": {
      "image/png": "[encoded data removed]",
      "text/plain": [
       "<Figure size 432x288 with 1 Axes>"
      ]
     },
     "metadata": {
      "needs_background": "light"
     },
     "output_type": "display_data"
    }
   ],
   "source": [
    "def run_sort(list_,scenario):\n",
    "    if scenario == \"ascending\":\n",
    "        pass\n",
    "    elif scenario == \"random\":\n",
    "        random.shuffle (list_)\n",
    "    elif scenario == \"descending\":\n",
    "        list_ = list_[::-1]\n",
    "    \n",
    "    time_begin = time.time()\n",
    "    quicksort(list_, 0, len(list_) - 1)\n",
    "    time_end = time.time()\n",
    "    time_to_run = time_end - time_begin\n",
    "    return time_to_run\n",
    "\n",
    "for lengths in lengths_to_run: \n",
    "    list_to_be_sorted = list (range (1, lengths))\n",
    "    time_elapsed = run_sort(list_ = list_to_be_sorted, scenario = \"ascending\") #the run_sort function does not change the arrangement of the numbers here to generate the input list as the scenario is 'ascending' already. \n",
    "    sorted_lists_results.append(time_elapsed)\n",
    "\n",
    "for lengths in lengths_to_run: \n",
    "    list_to_be_sorted = list (range (1, lengths))\n",
    "    time_elapsed = run_sort(list_ = list_to_be_sorted, scenario = \"random\") #the run_sort function randomly shuffles the arrangement of the numbers here to generate the input list as the scenario is 'random'.\n",
    "    random_list_results.append(time_elapsed)\n",
    "\n",
    "for lengths in lengths_to_run: \n",
    "    list_to_be_sorted = list (range (1, lengths))\n",
    "    time_elapsed = run_sort(list_ = list_to_be_sorted, scenario = \"descending\") #the run_sort function reverses the arrangement of the numbers here to generate the input list as the scenario is 'descending'.\n",
    "    inversely_sorted_lists_results.append(time_elapsed)\n",
    "\n",
    "print (sorted_lists_results)\n",
    "print (random_list_results)\n",
    "print (inversely_sorted_lists_results)\n",
    "\n",
    "plt.plot(lengths_to_run, sorted_lists_results, label = \"ascending\")\n",
    "plt.plot(lengths_to_run, random_list_results, label = \"random\")\n",
    "plt.plot(lengths_to_run, inversely_sorted_lists_results, label = \"descending\")\n",
    "plt.legend()\n",
    "plt.show()"
   ]
  },
  {
   "cell_type": "markdown",
   "metadata": {},
   "source": [
    "### Analysis of Time Complexities:\n",
    "\n",
    "1. Best case scenario:\n",
    "Best case mostly occurs for a randomly arranged input list. The partitioning or the split happens in such a way that whenever two sublists are identified from a large random original list, then due to the randomness of the original list, chances are that the two new lists are more or less of the same length to each other and close to half the size of the original list.\n",
    "Time complexity of 'split' function ~ (constant)*n as it goes through each element to compare it with the key/pivot\n",
    "'Quicksort' function's best-case time complexity => T(n) = 2T(n/2) + (constant)*n {derived from two half sized-list recurrances + split function} \n",
    "=> Overall time complexity = O(nLog(n))\n",
    "\n",
    "2. Worst case scenario:\n",
    "The worst case occurs when the split process always picks the greatest or smallest element as the pivot. If we consider a split strategy where the last element is always picked as a pivot, the worst case would occur when the list is throughout ascending and throughout descending\n",
    "The 'split' function leaves only one sub-list (either to the left or to the right of the split_index). So, effectively recursion takes place on one subsequent list but the list is of almost the same length as the original list.\n",
    "Time complexity of 'split' function ~ (constant)*n as it goes through each element to compare it with the key/pivot\n",
    "'Quicksort' function's worst-case time complexity => T(n) = T(n-1) + (constant)*n {derived from one same sized-list recurrance + split function} \n",
    "=> Overall time complexity = O(n^2)\n",
    "\n",
    "3. Average case scenario:\n",
    "In average case we can have all kinds of split with equal probabilities. So, if the randomly chosen key/pivot lies on the 'ith' index, the intuition is:\n",
    "'Quicksort' function's average-case time complexity => T(n) = T(i-1) + T(n - i) + (constant)*n\n",
    "Since, 'i' can be any index with equal probability, true T(n) = (1/n) * [Sum {T(i-1) + T(n - i)} over all i]  + (constant)*n\n",
    "=> Overall time complexity = O(nLog(n))\n",
    "\n",
    "The explaination of time complexities is in sync with the graphs produced in this exercise.\n"
   ]
  }
 ],
 "metadata": {
  "kernelspec": {
   "display_name": "Python 3.9.12 ('base')",
   "language": "python",
   "name": "python3"
  },
  "language_info": {
   "codemirror_mode": {
    "name": "ipython",
    "version": 3
   },
   "file_extension": ".py",
   "mimetype": "text/x-python",
   "name": "python",
   "nbconvert_exporter": "python",
   "pygments_lexer": "ipython3",
   "version": "3.9.12"
  },
  "orig_nbformat": 4,
  "vscode": {
   "interpreter": {
    "hash": "40d3a090f54c6569ab1632332b64b2c03c39dcf918b08424e98f38b5ae0af88f"
   }
  }
 },
 "nbformat": 4,
 "nbformat_minor": 2
}
