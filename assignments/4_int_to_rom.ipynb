{
 "cells": [
  {
   "cell_type": "markdown",
   "metadata": {},
   "source": [
    "# Integer to Roman\n",
    "\n",
    "Given a decimal integer number, convert it to roman number.\n",
    "Roman numerals are represented by seven different symbols: I, V, X, L, C, D and M.\n",
    "\n",
    "I             1\n",
    "V             5\n",
    "X             10\n",
    "L             50\n",
    "C             100\n",
    "D             500\n",
    "M             1000\n",
    "\n",
    "For example, 3 is written as III in Roman numeral, just three one's added together. 13 is written as XIII, which is simply X + III. The number 28 is written as XXVIII, which is XX + V + III.\n",
    "\n",
    "Roman numerals are usually written largest to smallest from left to right. However, the numeral for four is not IIII. Instead, the number four is written as IV. Because the one is before the five we subtract it making four. The same principle applies to the number nine, which is written as IX. There are six instances where subtraction is used:\n",
    "\n",
    "I can be placed before V (5) and X (10) to make 4 and 9. \n",
    "X can be placed before L (50) and C (100) to make 40 and 90. \n",
    "C can be placed before D (500) and M (1000) to make 400 and 900."
   ]
  },
  {
   "cell_type": "markdown",
   "metadata": {},
   "source": [
    "### Solution with dictionary below"
   ]
  },
  {
   "cell_type": "code",
   "execution_count": 64,
   "metadata": {},
   "outputs": [],
   "source": [
    "# Creating a dictionary to reference for the desired values in Roman numerals. Dictionary reduces the time complexity for searching.\n",
    "num_dict = {\n",
    "    1000 : \"M\",\n",
    "    900 : \"CM\",\n",
    "    500 : \"D\",\n",
    "    400 : \"CD\",\n",
    "    100 : \"C\",\n",
    "    90 : \"XC\", \n",
    "    50 : \"L\",\n",
    "    40 : \"XL\",\n",
    "    10 : \"X\",\n",
    "    9 : \"IX\",\n",
    "    5 : \"V\",\n",
    "    4 : \"IV\",\n",
    "    1 : \"I\"     \n",
    "}"
   ]
  },
  {
   "cell_type": "code",
   "execution_count": 65,
   "metadata": {},
   "outputs": [],
   "source": [
    "# Function to convert an integer to a Roman numeral. \n",
    "def int_to_rom(integer):\n",
    "    if integer >= 4000: # The input integer values should be less than or equal to 3999, for the function to be able to convert to Roman numerals using 'just the symbols mentioned in the exercise - M,D,C,L,X,V,I \n",
    "        return (\"This integer cannot be expressed using 'just' the symbols M,D,C,L,X,V,I\")\n",
    "    rom_num = \"\" # Define an empty string where the Roman Numeral will be appended and saved in every loop\n",
    "    for element in num_dict:\n",
    "        count = integer // element #Take quotient after dividing the integer by elements in the dictionary to identify the number of times a Roman character would appear in the string\n",
    "        rom_num += count*num_dict[element] #Append and update the Roman Numeral string\n",
    "        integer = integer % element #Modify integer in every step as the remainder when divided by element of the dictionary\n",
    "    return rom_num   "
   ]
  },
  {
   "cell_type": "code",
   "execution_count": 66,
   "metadata": {},
   "outputs": [
    {
     "data": {
      "text/plain": [
       "'MMDXCI'"
      ]
     },
     "execution_count": 66,
     "metadata": {},
     "output_type": "execute_result"
    }
   ],
   "source": [
    "# Calling the function for a random integer\n",
    "int_to_rom(2591)"
   ]
  }
 ],
 "metadata": {
  "kernelspec": {
   "display_name": "Python 3.9.12 ('base')",
   "language": "python",
   "name": "python3"
  },
  "language_info": {
   "codemirror_mode": {
    "name": "ipython",
    "version": 3
   },
   "file_extension": ".py",
   "mimetype": "text/x-python",
   "name": "python",
   "nbconvert_exporter": "python",
   "pygments_lexer": "ipython3",
   "version": "3.9.12"
  },
  "orig_nbformat": 4,
  "vscode": {
   "interpreter": {
    "hash": "40d3a090f54c6569ab1632332b64b2c03c39dcf918b08424e98f38b5ae0af88f"
   }
  }
 },
 "nbformat": 4,
 "nbformat_minor": 2
}
