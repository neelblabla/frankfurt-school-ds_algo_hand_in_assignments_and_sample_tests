{
 "cells": [
  {
   "cell_type": "markdown",
   "metadata": {},
   "source": [
    "### BINARY SEARCH TREE\n",
    "\n",
    "With Binary Search Trees we are entering the world of data structures. \n",
    "\n",
    "Your group assignment is to implement a Binary Search Tree using object oriented programming. Following class outline is the minimum implementation.\n",
    "\n",
    "class Node:\n",
    "\n",
    "    def __init__(self, key, data):\n",
    "        ...\n",
    "\n",
    "    def insert(self, key, data):\n",
    "        ...\n",
    "\n",
    "    def get(self, key):\n",
    "        ...\n",
    "\n",
    "tree = Node('Vahe', 40)\n",
    "tree.insert('Thomas', 41)\n",
    "\n",
    "print(tree.get('Vahe'))\n",
    "\n",
    "\n",
    "Think about following questions:\n",
    "\n",
    "1. What is the time complexity to retrieve a value?\n",
    "2. Does it matter in what order values are inserted?\n",
    "Happy programming!\n"
   ]
  },
  {
   "cell_type": "code",
   "execution_count": 6,
   "metadata": {},
   "outputs": [
    {
     "name": "stdout",
     "output_type": "stream",
     "text": [
      "5\n",
      "None\n",
      "None\n"
     ]
    }
   ],
   "source": [
    "class Node():\n",
    "    def __init__(self, key):\n",
    "        self.key = key\n",
    "        self.left_children = None\n",
    "        self.right_children = None\n",
    "    def insert(self, node):\n",
    "        # Caveat : Please also handle duplicates\n",
    "        if self.key <= node.key:\n",
    "            self.left_children = node\n",
    "        else:\n",
    "            self.right_children = node\n",
    "    def delete():\n",
    "        pass\n",
    "    def get():\n",
    "        pass\n",
    "\n",
    "root_node = Node(5)\n",
    "print(root_node.key)\n",
    "print(root_node.left_children)\n",
    "print(root_node.right_children)"
   ]
  }
 ],
 "metadata": {
  "kernelspec": {
   "display_name": "Python 3.9.12 ('base')",
   "language": "python",
   "name": "python3"
  },
  "language_info": {
   "codemirror_mode": {
    "name": "ipython",
    "version": 3
   },
   "file_extension": ".py",
   "mimetype": "text/x-python",
   "name": "python",
   "nbconvert_exporter": "python",
   "pygments_lexer": "ipython3",
   "version": "3.9.12"
  },
  "orig_nbformat": 4,
  "vscode": {
   "interpreter": {
    "hash": "40d3a090f54c6569ab1632332b64b2c03c39dcf918b08424e98f38b5ae0af88f"
   }
  }
 },
 "nbformat": 4,
 "nbformat_minor": 2
}
