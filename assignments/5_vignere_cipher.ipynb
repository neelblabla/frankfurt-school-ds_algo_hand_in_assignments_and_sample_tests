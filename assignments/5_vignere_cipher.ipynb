{
 "cells": [
  {
   "cell_type": "markdown",
   "metadata": {},
   "source": [
    "## Vignere Cipher"
   ]
  },
  {
   "cell_type": "markdown",
   "metadata": {},
   "source": [
    "Please implement the Vigenere cipher as a class.\n",
    "\n",
    "You can find details here (https://en.wikipedia.org/wiki/Vigen%C3%A8re_cipher)\n",
    "\n",
    "Here is how I would like to use the class:\n",
    "\n",
    "\n",
    "v = Vigenere(\"this is the key\")\n",
    "cipher_text = v.encrypt(\"this is the message\")\n",
    "message = v.decrypt(\"cipher_text\")\n",
    "assert (message == \"this is the message\"), \"encrypt, decrypt did not result in same message\"\n",
    "\n",
    "\n",
    "Have fun programming!"
   ]
  },
  {
   "cell_type": "code",
   "execution_count": 3,
   "metadata": {},
   "outputs": [],
   "source": [
    "import string"
   ]
  },
  {
   "cell_type": "code",
   "execution_count": 4,
   "metadata": {},
   "outputs": [
    {
     "name": "stdout",
     "output_type": "stream",
     "text": [
      "Message_String: GERMANYISAMAZING\n",
      "Key_String: FRANKFURT\n",
      "\n",
      "*****\n",
      "\n",
      "Encrypted: LVRZKSSZLFDAMSSA\n",
      "Decrypted: GERMANYISAMAZING\n"
     ]
    }
   ],
   "source": [
    "class Vigenere_Cipher:\n",
    "    def __init__(self, keyword):\n",
    "        self.keyword = []\n",
    "        for letter in keyword:\n",
    "            self.keyword.append(self.convert_char(letter))\n",
    "        self.alphabet = [letter for letter in string.ascii_uppercase]\n",
    "\n",
    "    #Assuming that all the characters are upper case in the strings being used\n",
    "    def convert_char(self, character):\n",
    "        return ord(character) - 65\n",
    "\n",
    "    def encryption(self, string_for_encryption):\n",
    "        i = 0\n",
    "        encrypted_text = \"\"\n",
    "\n",
    "        for letter in string_for_encryption:\n",
    "            letter_number = self.convert_char(letter)\n",
    "            shifted_alphabet = self.alphabet[letter_number:] + self.alphabet[:letter_number]\n",
    "            encrypted_text += shifted_alphabet[self.keyword[i]]\n",
    "            i += 1\n",
    "            if i == len(self.keyword):\n",
    "                i = 0\n",
    "\n",
    "        return encrypted_text\n",
    "\n",
    "    def decryption(self, string_for_decryption):\n",
    "        j = 0\n",
    "        decrypted_text = \"\"\n",
    "\n",
    "        for letter in string_for_decryption:\n",
    "            shifted_alphabet = self.alphabet[self.keyword[j]:] + self.alphabet[:self.keyword[j]]\n",
    "            decrypted_text += self.alphabet[shifted_alphabet.index(letter)]\n",
    "            j += 1\n",
    "            if j == len(self.keyword):\n",
    "                j = 0\n",
    "\n",
    "        return decrypted_text\n",
    "\n",
    "\n",
    "message_string = \"GERMANYISAMAZING\"\n",
    "code_word = \"FRANKFURT\"\n",
    "cipher = Vigenere_Cipher(code_word)\n",
    "encrypted = cipher.encryption(message_string)\n",
    "decrypted = cipher.decryption(encrypted)\n",
    "\n",
    "print(f\"Message_String: {message_string}\")\n",
    "print(f\"Key_String: {code_word}\")\n",
    "print(f\"\\n*****\")\n",
    "print(f\"\\nEncrypted: {encrypted}\")\n",
    "print(f\"Decrypted: {decrypted}\")\n",
    "assert(message_string == decrypted)"
   ]
  }
 ],
 "metadata": {
  "kernelspec": {
   "display_name": "Python 3.9.12 ('base')",
   "language": "python",
   "name": "python3"
  },
  "language_info": {
   "codemirror_mode": {
    "name": "ipython",
    "version": 3
   },
   "file_extension": ".py",
   "mimetype": "text/x-python",
   "name": "python",
   "nbconvert_exporter": "python",
   "pygments_lexer": "ipython3",
   "version": "3.9.12"
  },
  "orig_nbformat": 4,
  "vscode": {
   "interpreter": {
    "hash": "40d3a090f54c6569ab1632332b64b2c03c39dcf918b08424e98f38b5ae0af88f"
   }
  }
 },
 "nbformat": 4,
 "nbformat_minor": 2
}
