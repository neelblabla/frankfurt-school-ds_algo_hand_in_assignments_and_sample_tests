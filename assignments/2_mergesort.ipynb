{
 "cells": [
  {
   "cell_type": "markdown",
   "metadata": {},
   "source": [
    "# MERGESORT\n",
    "\n",
    "Your task is to write a function that takes a list of sortable types as input and outputs a sorted list using merge sort algorithm. There are many ways to implement merge sort, but you should focus on using recursive functions.\n",
    "Use your function to sort different lengths of input lists, estimating the time complexity for best, worst and average cases.\n",
    "Have fun programming!"
   ]
  },
  {
   "cell_type": "code",
   "execution_count": 1,
   "metadata": {},
   "outputs": [],
   "source": [
    "import random\n",
    "import time\n",
    "import matplotlib.pyplot as plt"
   ]
  },
  {
   "cell_type": "markdown",
   "metadata": {},
   "source": [
    "### Defined below is a function to perform MERGESORT"
   ]
  },
  {
   "cell_type": "code",
   "execution_count": 2,
   "metadata": {},
   "outputs": [],
   "source": [
    "a = [22, 147, 156, 2465, 23, 3120, 98, 11, 9, 7, 34, 25, 990, 10, 64]"
   ]
  },
  {
   "cell_type": "code",
   "execution_count": 3,
   "metadata": {},
   "outputs": [],
   "source": [
    "def merge(list_l, list_r, sorted_list):\n",
    "    i = 0\n",
    "    j = 0\n",
    "    k = 0\n",
    "    while (i < len(list_l) and j < len(list_r)):\n",
    "        if list_l[i] <= list_r[j]:\n",
    "            sorted_list[k] = list_l[i]\n",
    "            i = i + 1\n",
    "        else:\n",
    "            sorted_list[k] = list_r[j]\n",
    "            j = j + 1\n",
    "        k = k + 1\n",
    "    while i < len(list_l):\n",
    "        sorted_list[k] = list_l[i]\n",
    "        i = i + 1\n",
    "        k = k + 1\n",
    "    while j < len(list_r):\n",
    "        sorted_list[k] = list_r[j]\n",
    "        j = j + 1\n",
    "        k = k + 1\n",
    "    return sorted_list\n",
    "\n",
    "\n",
    "def merge_sort(list):\n",
    "    if (len(list) > 1):\n",
    "        mid = len(list) // 2\n",
    "        list_l = list[ : mid]\n",
    "        list_r = list[mid : ]\n",
    "        \n",
    "        merge_sort(list_l)\n",
    "        merge_sort(list_r)\n",
    "        \n",
    "        merge(list_l, list_r, list)\n",
    "        \n",
    "    return list\n"
   ]
  },
  {
   "cell_type": "code",
   "execution_count": 4,
   "metadata": {},
   "outputs": [
    {
     "data": {
      "text/plain": [
       "[7, 9, 10, 11, 22, 23, 25, 34, 64, 98, 147, 156, 990, 2465, 3120]"
      ]
     },
     "execution_count": 4,
     "metadata": {},
     "output_type": "execute_result"
    }
   ],
   "source": [
    "merge_sort(a)"
   ]
  },
  {
   "cell_type": "markdown",
   "metadata": {},
   "source": [
    "### Following this point below is the code to measure execution time for different lengths of lists in worst, average and good case scenarios. Time complexities are explained towards the end."
   ]
  },
  {
   "cell_type": "code",
   "execution_count": 5,
   "metadata": {},
   "outputs": [],
   "source": [
    "lengths_to_run = [20000, 50000, 100000, 150000, 200000]\n",
    "sorted_lists_results = []\n",
    "inversely_sorted_lists_results = []\n",
    "random_list_results = []"
   ]
  },
  {
   "cell_type": "code",
   "execution_count": 6,
   "metadata": {},
   "outputs": [
    {
     "name": "stdout",
     "output_type": "stream",
     "text": [
      "[0.16565513610839844, 0.29966115951538086, 0.606813907623291, 0.9684338569641113, 1.2757720947265625]\n",
      "[0.13840508460998535, 0.3834712505340576, 1.038219928741455, 1.5194098949432373, 1.815345287322998]\n",
      "[0.10901713371276855, 0.2859828472137451, 0.6137878894805908, 0.9375360012054443, 1.3305490016937256]\n"
     ]
    },
    {
     "data": {
      "image/png": "[encoded data removed]",
      "text/plain": [
       "<Figure size 432x288 with 1 Axes>"
      ]
     },
     "metadata": {
      "needs_background": "light"
     },
     "output_type": "display_data"
    }
   ],
   "source": [
    "def run_sort(list_,scenario):\n",
    "    if scenario == \"ascending\":\n",
    "        pass\n",
    "    elif scenario == \"random\":\n",
    "        random.shuffle (list_)\n",
    "    elif scenario == \"descending\":\n",
    "        list_ = list_[::-1]\n",
    "    \n",
    "    time_begin = time.time()\n",
    "    merge_sort(list_)\n",
    "    time_end = time.time()\n",
    "    time_to_run = time_end - time_begin\n",
    "    return time_to_run\n",
    "\n",
    "for lengths in lengths_to_run: \n",
    "    list_to_be_sorted = list (range (1, lengths))\n",
    "    time_elapsed = run_sort(list_ = list_to_be_sorted, scenario = \"ascending\") #the run_sort function does not change the arrangement of the numbers here to generate the input list as the scenario is 'ascending' already. \n",
    "    sorted_lists_results.append(time_elapsed)\n",
    "\n",
    "for lengths in lengths_to_run: \n",
    "    list_to_be_sorted = list (range (1, lengths))\n",
    "    time_elapsed = run_sort(list_ = list_to_be_sorted, scenario = \"random\") #the run_sort function randomly shuffles the arrangement of the numbers here to generate the input list as the scenario is 'random'.\n",
    "    random_list_results.append(time_elapsed)\n",
    "\n",
    "for lengths in lengths_to_run: \n",
    "    list_to_be_sorted = list (range (1, lengths))\n",
    "    time_elapsed = run_sort(list_ = list_to_be_sorted, scenario = \"descending\") #the run_sort function reverses the arrangement of the numbers here to generate the input list as the scenario is 'descending'.\n",
    "    inversely_sorted_lists_results.append(time_elapsed)\n",
    "\n",
    "print (sorted_lists_results)\n",
    "print (random_list_results)\n",
    "print (inversely_sorted_lists_results)\n",
    "\n",
    "plt.plot(lengths_to_run, sorted_lists_results, label = \"ascending\")\n",
    "plt.plot(lengths_to_run, random_list_results, label = \"random\")\n",
    "plt.plot(lengths_to_run, inversely_sorted_lists_results, label = \"descending\")\n",
    "plt.legend()\n",
    "plt.show()"
   ]
  },
  {
   "cell_type": "markdown",
   "metadata": {},
   "source": [
    "### Analysis of Time Complexities:\n",
    "\n",
    "Time complexity of 'merge' function ~ (constant_1)*n as it goes through each element to compare and place in the original list\n",
    "'Mergesort' function's time complexity => T(n) = (constant_2)*n + 2T(n/2) + (constant_1)*n {derived from halfing the list + two half sized-list recurrances + merge function} \n",
    "=> Overall time complexity = O(nLog(n))\n",
    "\n",
    "The time complexity of Merge Sort is O(n*log(n)) in all 3 cases (worst, average, and best) as merge sort always divides the array into two halves and takes linear time to merge two halves.\n",
    "\n",
    "The explaination of time complexities is in sync with the graphs produced in this exercise."
   ]
  }
 ],
 "metadata": {
  "kernelspec": {
   "display_name": "Python 3.9.12 ('base')",
   "language": "python",
   "name": "python3"
  },
  "language_info": {
   "codemirror_mode": {
    "name": "ipython",
    "version": 3
   },
   "file_extension": ".py",
   "mimetype": "text/x-python",
   "name": "python",
   "nbconvert_exporter": "python",
   "pygments_lexer": "ipython3",
   "version": "3.9.12"
  },
  "orig_nbformat": 4,
  "vscode": {
   "interpreter": {
    "hash": "40d3a090f54c6569ab1632332b64b2c03c39dcf918b08424e98f38b5ae0af88f"
   }
  }
 },
 "nbformat": 4,
 "nbformat_minor": 2
}
