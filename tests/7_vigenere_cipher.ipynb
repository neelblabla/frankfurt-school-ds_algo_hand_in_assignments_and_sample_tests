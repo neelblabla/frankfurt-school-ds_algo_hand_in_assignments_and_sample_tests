{
 "cells": [
  {
   "cell_type": "markdown",
   "metadata": {},
   "source": [
    "# Implement the Vigenere Cipher\n",
    "Although the idea of the Vigenere Cipher is very basic it took humanity over 300 years to\n",
    "break it. Ultimately, frequency analysis broke it. Develop the class to encrypt and decrypt\n",
    "using the cipher developed by Vigenere."
   ]
  },
  {
   "cell_type": "code",
   "execution_count": 219,
   "metadata": {},
   "outputs": [],
   "source": [
    "import pandas as pd"
   ]
  },
  {
   "cell_type": "code",
   "execution_count": 220,
   "metadata": {},
   "outputs": [],
   "source": [
    "pl_txt = 'germany'\n",
    "key = \"india\"\n"
   ]
  },
  {
   "cell_type": "code",
   "execution_count": 221,
   "metadata": {},
   "outputs": [],
   "source": [
    "# code for modifying the key to match length of plain_text\n",
    "def modify_key(plain_txt, en_key):\n",
    "    if len(plain_txt) < len(en_key):\n",
    "        print(f\"The plain tet can not be encrypted with a key larger than itself\")\n",
    "        return\n",
    "    elif len(plain_txt) == len(en_key):\n",
    "        return en_key\n",
    "    else:\n",
    "        len_temp = len(pl_txt) - len(key)\n",
    "        i = 0\n",
    "        temp = en_key\n",
    "        while (i < len_temp):\n",
    "            temp = temp + en_key[i% len(en_key)]\n",
    "            i = i + 1\n",
    "        return temp"
   ]
  },
  {
   "cell_type": "code",
   "execution_count": 222,
   "metadata": {},
   "outputs": [
    {
     "data": {
      "text/plain": [
       "'indiain'"
      ]
     },
     "execution_count": 222,
     "metadata": {},
     "output_type": "execute_result"
    }
   ],
   "source": [
    "new_key = modify_key(pl_txt, key)\n",
    "new_key"
   ]
  },
  {
   "cell_type": "code",
   "execution_count": 223,
   "metadata": {},
   "outputs": [],
   "source": [
    "# code for ENcryption\n",
    "def encrypt(plain_txt, mod_en_key):\n",
    "    alphabet = ['a', 'b', 'c', 'd', 'e', 'f', 'g', 'h', 'i', 'j', 'k', 'l', 'm', 'n', 'o', 'p', 'q', 'r', 's', 't', 'u', 'v', 'w', 'x', 'y', 'z']\n",
    "    encrypt_txt = \"\"\n",
    "    i = 0\n",
    "    while (i < len(plain_txt)):\n",
    "        ind = (alphabet.index(plain_txt[i]) + alphabet.index(mod_en_key[i])) % 26\n",
    "        encrypt_txt = encrypt_txt + alphabet[ind]\n",
    "        i = i + 1\n",
    "    return encrypt_txt\n"
   ]
  },
  {
   "cell_type": "code",
   "execution_count": 224,
   "metadata": {},
   "outputs": [
    {
     "name": "stdout",
     "output_type": "stream",
     "text": [
      "ENcrypted code: oruuavl\n"
     ]
    }
   ],
   "source": [
    "code_1 = encrypt(pl_txt, new_key)\n",
    "print(f\"ENcrypted code: {code_1}\")"
   ]
  },
  {
   "cell_type": "code",
   "execution_count": 225,
   "metadata": {},
   "outputs": [],
   "source": [
    "# code for DEcryption\n",
    "def decrypt(encrypt_txt, mod_en_key):\n",
    "    alphabet = ['a', 'b', 'c', 'd', 'e', 'f', 'g', 'h', 'i', 'j', 'k', 'l', 'm', 'n', 'o', 'p', 'q', 'r', 's', 't', 'u', 'v', 'w', 'x', 'y', 'z']\n",
    "    decrypt_txt = \"\"\n",
    "    i = 0\n",
    "    while (i < len(encrypt_txt)):\n",
    "        ind = (alphabet.index(encrypt_txt[i]) + 26 - alphabet.index(mod_en_key[i])) % 26\n",
    "        decrypt_txt = decrypt_txt + alphabet[ind]\n",
    "        i = i + 1\n",
    "    return decrypt_txt"
   ]
  },
  {
   "cell_type": "code",
   "execution_count": 226,
   "metadata": {},
   "outputs": [
    {
     "name": "stdout",
     "output_type": "stream",
     "text": [
      "DEcrypted code: germany\n"
     ]
    }
   ],
   "source": [
    "code_2 = decrypt(code_1, new_key)\n",
    "print(f\"DEcrypted code: {code_2}\")"
   ]
  }
 ],
 "metadata": {
  "kernelspec": {
   "display_name": "Python 3.9.12 ('base')",
   "language": "python",
   "name": "python3"
  },
  "language_info": {
   "codemirror_mode": {
    "name": "ipython",
    "version": 3
   },
   "file_extension": ".py",
   "mimetype": "text/x-python",
   "name": "python",
   "nbconvert_exporter": "python",
   "pygments_lexer": "ipython3",
   "version": "3.9.12"
  },
  "orig_nbformat": 4,
  "vscode": {
   "interpreter": {
    "hash": "40d3a090f54c6569ab1632332b64b2c03c39dcf918b08424e98f38b5ae0af88f"
   }
  }
 },
 "nbformat": 4,
 "nbformat_minor": 2
}
