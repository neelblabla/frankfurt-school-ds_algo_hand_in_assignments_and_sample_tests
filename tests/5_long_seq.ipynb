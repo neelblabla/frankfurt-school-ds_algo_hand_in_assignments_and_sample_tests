{
 "cells": [
  {
   "cell_type": "markdown",
   "metadata": {},
   "source": [
    "# Determine the longest sequence of increasing numbers in a list of number\n",
    "Given a sequence of numbers, determine the longest streak of consecutive numbers that are\n",
    "increasing. For example given the sequence [1, 2, 5, 3, 8, 9, 13, 24, 21], the longest sequence\n",
    "is [3, 8, 9, 13, 24]."
   ]
  },
  {
   "cell_type": "code",
   "execution_count": 7,
   "metadata": {},
   "outputs": [],
   "source": [
    "a =  [1, 2, 5, 3, 8, 9, 13, 24, 21]"
   ]
  },
  {
   "cell_type": "code",
   "execution_count": 8,
   "metadata": {},
   "outputs": [
    {
     "data": {
      "text/plain": [
       "9"
      ]
     },
     "execution_count": 8,
     "metadata": {},
     "output_type": "execute_result"
    }
   ],
   "source": [
    "len(a)"
   ]
  },
  {
   "cell_type": "code",
   "execution_count": 9,
   "metadata": {},
   "outputs": [
    {
     "name": "stdout",
     "output_type": "stream",
     "text": [
      "longest sequence is: [3, 8, 9, 13, 24]\n"
     ]
    }
   ],
   "source": [
    "c = 0\n",
    "key = 0\n",
    "i = key\n",
    "while (i < len(a)):\n",
    "    #print(a[i], end = \" \")\n",
    "    j = i + 1\n",
    "    temp = 0\n",
    "    while (j < len(a)):\n",
    "        if (a[j] > a[j-1]):\n",
    "            #print(a[j], end = \" \")\n",
    "            temp = temp + 1\n",
    "            j = j + 1\n",
    "        else: \n",
    "            break\n",
    "    if (temp > c):\n",
    "        c = temp\n",
    "        key = i\n",
    "    i = i + 1\n",
    "    #print(\"\\n\")\n",
    "print(f\"longest sequence is: {a[key:key+c+1]}\") "
   ]
  }
 ],
 "metadata": {
  "kernelspec": {
   "display_name": "Python 3.9.12 ('base')",
   "language": "python",
   "name": "python3"
  },
  "language_info": {
   "codemirror_mode": {
    "name": "ipython",
    "version": 3
   },
   "file_extension": ".py",
   "mimetype": "text/x-python",
   "name": "python",
   "nbconvert_exporter": "python",
   "pygments_lexer": "ipython3",
   "version": "3.9.12"
  },
  "orig_nbformat": 4,
  "vscode": {
   "interpreter": {
    "hash": "40d3a090f54c6569ab1632332b64b2c03c39dcf918b08424e98f38b5ae0af88f"
   }
  }
 },
 "nbformat": 4,
 "nbformat_minor": 2
}
