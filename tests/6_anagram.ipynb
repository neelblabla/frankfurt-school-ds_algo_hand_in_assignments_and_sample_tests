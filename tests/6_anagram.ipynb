{
 "cells": [
  {
   "cell_type": "markdown",
   "metadata": {},
   "source": [
    "# Determine given two strings if one is an anagram of the other\n",
    "Given two strings, determine if one is an anagram of the other. For example, the two strings\n",
    "“anagram” and “margana” are anagrams of each other."
   ]
  },
  {
   "cell_type": "code",
   "execution_count": 17,
   "metadata": {},
   "outputs": [
    {
     "name": "stdout",
     "output_type": "stream",
     "text": [
      "Enter FIRST word\n",
      "FIRST word: anagram\n",
      "Enter SECOND word\n",
      "SECOND word: margana\n"
     ]
    }
   ],
   "source": [
    "a = input(print(f\"Enter FIRST word\"))\n",
    "print(f\"FIRST word: {a}\")\n",
    "\n",
    "b = input(print(f\"Enter SECOND word\"))\n",
    "print(f\"SECOND word: {b}\")\n"
   ]
  },
  {
   "cell_type": "code",
   "execution_count": 18,
   "metadata": {},
   "outputs": [
    {
     "name": "stdout",
     "output_type": "stream",
     "text": [
      "YEP, the two words ARE Anagrams\n"
     ]
    }
   ],
   "source": [
    "if len(a) == len(b):\n",
    "    c = 0\n",
    "    i = 0\n",
    "    while (i < len(a)):\n",
    "        if (a[i] == b[len(a)-i-1]):\n",
    "            c = c + 1\n",
    "        else:\n",
    "            print(f\"NOPE, the two words ARE NOT Anagrams\")\n",
    "            break\n",
    "        i = i + 1\n",
    "    if c == len(a):\n",
    "        print(f\"YEP, the two words ARE Anagrams\")\n",
    "else: \n",
    "    print(f\"NOPE, the two words ARE NOT Anagrams\")\n",
    "        \n"
   ]
  }
 ],
 "metadata": {
  "kernelspec": {
   "display_name": "Python 3.9.12 ('base')",
   "language": "python",
   "name": "python3"
  },
  "language_info": {
   "codemirror_mode": {
    "name": "ipython",
    "version": 3
   },
   "file_extension": ".py",
   "mimetype": "text/x-python",
   "name": "python",
   "nbconvert_exporter": "python",
   "pygments_lexer": "ipython3",
   "version": "3.9.12"
  },
  "orig_nbformat": 4,
  "vscode": {
   "interpreter": {
    "hash": "40d3a090f54c6569ab1632332b64b2c03c39dcf918b08424e98f38b5ae0af88f"
   }
  }
 },
 "nbformat": 4,
 "nbformat_minor": 2
}
