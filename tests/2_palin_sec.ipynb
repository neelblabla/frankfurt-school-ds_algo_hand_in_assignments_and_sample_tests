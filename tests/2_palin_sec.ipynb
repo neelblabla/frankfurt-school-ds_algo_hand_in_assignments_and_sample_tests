{
 "cells": [
  {
   "cell_type": "markdown",
   "metadata": {},
   "source": [
    "# Find all palindromic sections of any given string longer than one\n",
    "A palindrome is a sequence that reads the same backwards as forwards. “Anna”, for example is a palindrome. The task is to find all palindromic sequences within any given string. \n",
    "The word “intellect” for example includes following palindromic sections:\n",
    "* “ll” intellect\n",
    "* “elle” intellect"
   ]
  },
  {
   "cell_type": "code",
   "execution_count": 1,
   "metadata": {},
   "outputs": [
    {
     "name": "stdout",
     "output_type": "stream",
     "text": [
      "the chosen word is 'mmppggggjioijglocsaoascol'\n"
     ]
    }
   ],
   "source": [
    "word  = input(f\"Enter the word\")\n",
    "print(f\"the chosen word is '{word}'\")"
   ]
  },
  {
   "cell_type": "code",
   "execution_count": 2,
   "metadata": {},
   "outputs": [
    {
     "data": {
      "text/plain": [
       "str"
      ]
     },
     "execution_count": 2,
     "metadata": {},
     "output_type": "execute_result"
    }
   ],
   "source": [
    "type(word)"
   ]
  },
  {
   "cell_type": "code",
   "execution_count": 3,
   "metadata": {},
   "outputs": [
    {
     "name": "stdout",
     "output_type": "stream",
     "text": [
      "palindrome 1 = mm\n",
      "palindrome 2 = pp\n",
      "palindrome 3 = gg\n",
      "palindrome 4 = gg\n",
      "palindrome 5 = gggg\n",
      "palindrome 6 = gg\n",
      "count of the number of palindromes with EVEN count of characters in the word 'mmppggggjioijglocsaoascol' is 6\n"
     ]
    }
   ],
   "source": [
    "i = 0\n",
    "count = 0\n",
    "while (i < len(word) - 1):\n",
    "    j = i + 1\n",
    "    k = i\n",
    "    while (j < len(word) and k >=0):\n",
    "        if (word[j] == word[k]): # loop for palindromes with even numbers of characters\n",
    "            count = count + 1\n",
    "            print(f\"palindrome {count} = {word[k : j+1]}\")  \n",
    "            j = j + 1\n",
    "            k = k - 1\n",
    "        else:\n",
    "            break\n",
    "    i = i + 1\n",
    "print(f\"count of the number of palindromes with EVEN count of characters in the word '{word}' is {count}\")"
   ]
  },
  {
   "cell_type": "code",
   "execution_count": 4,
   "metadata": {},
   "outputs": [
    {
     "name": "stdout",
     "output_type": "stream",
     "text": [
      "palindrome 1 = ggg\n",
      "palindrome 2 = ggg\n",
      "palindrome 3 = ioi\n",
      "palindrome 4 = jioij\n",
      "palindrome 5 = gjioijg\n",
      "palindrome 6 = aoa\n",
      "palindrome 7 = saoas\n",
      "palindrome 8 = csaoasc\n",
      "palindrome 9 = ocsaoasco\n",
      "palindrome 10 = locsaoascol\n",
      "count of the number of palindromes with ODD count of characters in the word 'mmppggggjioijglocsaoascol' is 10\n"
     ]
    }
   ],
   "source": [
    "x = 1\n",
    "count = 0\n",
    "while (x < len(word) - 1):\n",
    "    y = x + 1\n",
    "    z = x - 1\n",
    "    while (y < len(word) and z >=0):\n",
    "        if (word[y] == word[z]): # loop for palindromes with odd numbers of characters\n",
    "            count = count + 1\n",
    "            print(f\"palindrome {count} = {word[z : y+1]}\")\n",
    "            y = y + 1\n",
    "            z = z - 1\n",
    "        else:\n",
    "            break \n",
    "    x = x + 1\n",
    "print(f\"count of the number of palindromes with ODD count of characters in the word '{word}' is {count}\")"
   ]
  }
 ],
 "metadata": {
  "kernelspec": {
   "display_name": "Python 3.9.12 ('base')",
   "language": "python",
   "name": "python3"
  },
  "language_info": {
   "codemirror_mode": {
    "name": "ipython",
    "version": 3
   },
   "file_extension": ".py",
   "mimetype": "text/x-python",
   "name": "python",
   "nbconvert_exporter": "python",
   "pygments_lexer": "ipython3",
   "version": "3.9.12"
  },
  "orig_nbformat": 4,
  "vscode": {
   "interpreter": {
    "hash": "40d3a090f54c6569ab1632332b64b2c03c39dcf918b08424e98f38b5ae0af88f"
   }
  }
 },
 "nbformat": 4,
 "nbformat_minor": 2
}
