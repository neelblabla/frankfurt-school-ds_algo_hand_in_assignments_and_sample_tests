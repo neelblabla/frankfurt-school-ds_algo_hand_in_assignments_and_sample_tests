{
 "cells": [
  {
   "cell_type": "markdown",
   "metadata": {},
   "source": [
    "# Determine if a given string is a palindrome\n",
    "A palindrome is sequence that reads same backwards as forwards. “Anna”, for example is a\n",
    "palindrome. The task is to determine if a given string is a palindrome."
   ]
  },
  {
   "cell_type": "code",
   "execution_count": 88,
   "metadata": {},
   "outputs": [
    {
     "name": "stdout",
     "output_type": "stream",
     "text": [
      "the chosen word is 'KANAK'\n"
     ]
    }
   ],
   "source": [
    "word  = input(f\"Enter the word\")\n",
    "print(f\"the chosen word is '{word}'\")"
   ]
  },
  {
   "cell_type": "code",
   "execution_count": 89,
   "metadata": {},
   "outputs": [
    {
     "data": {
      "text/plain": [
       "str"
      ]
     },
     "execution_count": 89,
     "metadata": {},
     "output_type": "execute_result"
    }
   ],
   "source": [
    "type(word)"
   ]
  },
  {
   "cell_type": "code",
   "execution_count": 90,
   "metadata": {},
   "outputs": [
    {
     "name": "stdout",
     "output_type": "stream",
     "text": [
      "YEP, the word IS a palindrome\n"
     ]
    }
   ],
   "source": [
    "i = 0\n",
    "while (i<len(word)//2):\n",
    "    if word[i]==word[len(word)-1-i]:\n",
    "        i = i+1\n",
    "    else:\n",
    "        print(f\"NOPE, the word is NOT a palindrome\")\n",
    "        break\n",
    "if i == len(word)//2:\n",
    "    print(f\"YEP, the word IS a palindrome\")"
   ]
  }
 ],
 "metadata": {
  "kernelspec": {
   "display_name": "Python 3.9.12 ('base')",
   "language": "python",
   "name": "python3"
  },
  "language_info": {
   "codemirror_mode": {
    "name": "ipython",
    "version": 3
   },
   "file_extension": ".py",
   "mimetype": "text/x-python",
   "name": "python",
   "nbconvert_exporter": "python",
   "pygments_lexer": "ipython3",
   "version": "3.9.12"
  },
  "orig_nbformat": 4,
  "vscode": {
   "interpreter": {
    "hash": "40d3a090f54c6569ab1632332b64b2c03c39dcf918b08424e98f38b5ae0af88f"
   }
  }
 },
 "nbformat": 4,
 "nbformat_minor": 2
}
