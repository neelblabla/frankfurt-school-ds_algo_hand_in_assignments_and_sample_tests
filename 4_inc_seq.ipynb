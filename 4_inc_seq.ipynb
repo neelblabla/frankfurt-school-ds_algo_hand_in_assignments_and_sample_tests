{
 "cells": [
  {
   "cell_type": "markdown",
   "metadata": {},
   "source": [
    "# Determine if a sequence of numbers is increasing\n",
    "Given a sequence of numbers, determine if each element is larger than the previous element."
   ]
  },
  {
   "cell_type": "code",
   "execution_count": 3,
   "metadata": {},
   "outputs": [],
   "source": [
    "#a = [28, 3, 5, 45, 31, 2, 10, 11]\n",
    "a = [23, 45, 76, 89, 790, 876, 889, 1234, 2312]"
   ]
  },
  {
   "cell_type": "code",
   "execution_count": 4,
   "metadata": {},
   "outputs": [
    {
     "name": "stdout",
     "output_type": "stream",
     "text": [
      "YEP, the sequence IS increasing\n"
     ]
    }
   ],
   "source": [
    "i = 0\n",
    "while (i < len(a) - 1):\n",
    "    if(a[i + 1] > a[i]):\n",
    "        i = i + 1\n",
    "    else:\n",
    "        print(f\"NOPE, the sequence IS NOT increasing\")\n",
    "        break\n",
    "if i == len(a) - 1:\n",
    "    print(f\"YEP, the sequence IS increasing\")"
   ]
  }
 ],
 "metadata": {
  "kernelspec": {
   "display_name": "Python 3.9.12 ('base')",
   "language": "python",
   "name": "python3"
  },
  "language_info": {
   "codemirror_mode": {
    "name": "ipython",
    "version": 3
   },
   "file_extension": ".py",
   "mimetype": "text/x-python",
   "name": "python",
   "nbconvert_exporter": "python",
   "pygments_lexer": "ipython3",
   "version": "3.9.12"
  },
  "orig_nbformat": 4,
  "vscode": {
   "interpreter": {
    "hash": "40d3a090f54c6569ab1632332b64b2c03c39dcf918b08424e98f38b5ae0af88f"
   }
  }
 },
 "nbformat": 4,
 "nbformat_minor": 2
}
